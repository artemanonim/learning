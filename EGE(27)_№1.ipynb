{
 "cells": [
  {
   "cell_type": "markdown",
   "metadata": {},
   "source": [
    "На вход программы подаются произвольные алфавитно-цифровые символы. Ввод этих символов заканчивается точкой. Требуется написать программу, которая будет печатать последовательность строчных английских букв ('a' 'b'... 'z') из входной последовательности и частот их повторения. Печать должна происходить в алфавитном порядке. Например, пусть на вход подаются следующие символы: \n",
    "fhb5kbfыshfm. \n",
    "\n",
    "В этом случае программа должна вывести \n",
    "\n",
    "b2 \n",
    "f3 \n",
    "h2 \n",
    "k1 \n",
    "m1 \n",
    "s1\n",
    "    "
   ]
  },
  {
   "cell_type": "code",
   "execution_count": null,
   "metadata": {},
   "outputs": [],
   "source": [
    "import numpy as np\n",
    "list_3 = []\n",
    "a = 0\n",
    "list_1 = []\n",
    "while a != '.':\n",
    "    a = input()\n",
    "    if a == '.':\n",
    "        break\n",
    "    list_1.append(a)\n",
    "list_2 = np.sort(list_1)\n",
    "for i in range (len(list_2)):\n",
    "    list_3.append((list_2[i]) and (list_1.count(list_2[i])))\n",
    "    list_3.pop(a[i])"
   ]
  },
  {
   "cell_type": "raw",
   "metadata": {},
   "source": []
  }
 ],
 "metadata": {
  "kernelspec": {
   "display_name": "Python 3",
   "language": "python",
   "name": "python3"
  },
  "language_info": {
   "codemirror_mode": {
    "name": "ipython",
    "version": 3
   },
   "file_extension": ".py",
   "mimetype": "text/x-python",
   "name": "python",
   "nbconvert_exporter": "python",
   "pygments_lexer": "ipython3",
   "version": "3.7.0"
  }
 },
 "nbformat": 4,
 "nbformat_minor": 2
}
